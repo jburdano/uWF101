{
 "cells": [
  {
   "cell_type": "markdown",
   "id": "9ca42cf2",
   "metadata": {},
   "source": [
    "# Water usage for food production - an analysis of the water usage per item and country"
   ]
  },
  {
   "cell_type": "markdown",
   "id": "d83b0c39",
   "metadata": {},
   "source": [
    "## Packeges:"
   ]
  },
  {
   "cell_type": "code",
   "execution_count": 1,
   "id": "71fb0f00",
   "metadata": {},
   "outputs": [],
   "source": [
    "import pandas as pd\n",
    "import numpy as np"
   ]
  },
  {
   "cell_type": "markdown",
   "id": "6f5e38a4",
   "metadata": {},
   "source": [
    "## Data:"
   ]
  },
  {
   "cell_type": "code",
   "execution_count": null,
   "id": "b2498ce1",
   "metadata": {},
   "outputs": [],
   "source": [
    "db = pd.DataFrame(pd.read_csv('watertofood_data_21crops_11countries_1960-2016.csv', sep=';', header=1))\n",
    "db = db.replace(0, np.nan)"
   ]
  },
  {
   "cell_type": "code",
   "execution_count": null,
   "id": "2e74ea23",
   "metadata": {},
   "outputs": [],
   "source": [
    "#calculate the mean from column 7-63\n",
    "db['mean'] = db.iloc[:,7:63].mean(axis=1)\n",
    "db.head()"
   ]
  },
  {
   "cell_type": "code",
   "execution_count": 7,
   "id": "3770e907",
   "metadata": {},
   "outputs": [
    {
     "data": {
      "text/html": [
       "<div>\n",
       "<style scoped>\n",
       "    .dataframe tbody tr th:only-of-type {\n",
       "        vertical-align: middle;\n",
       "    }\n",
       "\n",
       "    .dataframe tbody tr th {\n",
       "        vertical-align: top;\n",
       "    }\n",
       "\n",
       "    .dataframe thead th {\n",
       "        text-align: right;\n",
       "    }\n",
       "</style>\n",
       "<table border=\"1\" class=\"dataframe\">\n",
       "  <thead>\n",
       "    <tr style=\"text-align: right;\">\n",
       "      <th></th>\n",
       "      <th>Item Category</th>\n",
       "      <th>Item Name</th>\n",
       "      <th>mean</th>\n",
       "    </tr>\n",
       "  </thead>\n",
       "  <tbody>\n",
       "    <tr>\n",
       "      <th>0</th>\n",
       "      <td>Cereals</td>\n",
       "      <td>Maize</td>\n",
       "      <td>1674.101605</td>\n",
       "    </tr>\n",
       "    <tr>\n",
       "      <th>1</th>\n",
       "      <td>Cereals</td>\n",
       "      <td>Rice, paddy</td>\n",
       "      <td>1788.696999</td>\n",
       "    </tr>\n",
       "    <tr>\n",
       "      <th>2</th>\n",
       "      <td>Fruits</td>\n",
       "      <td>Almonds, with shell</td>\n",
       "      <td>8151.645724</td>\n",
       "    </tr>\n",
       "    <tr>\n",
       "      <th>3</th>\n",
       "      <td>Fruits</td>\n",
       "      <td>Apples</td>\n",
       "      <td>438.329070</td>\n",
       "    </tr>\n",
       "    <tr>\n",
       "      <th>4</th>\n",
       "      <td>Fruits</td>\n",
       "      <td>Avocados</td>\n",
       "      <td>2009.206797</td>\n",
       "    </tr>\n",
       "    <tr>\n",
       "      <th>5</th>\n",
       "      <td>Fruits</td>\n",
       "      <td>Bananas</td>\n",
       "      <td>2227.226955</td>\n",
       "    </tr>\n",
       "    <tr>\n",
       "      <th>6</th>\n",
       "      <td>Fruits</td>\n",
       "      <td>Coconuts</td>\n",
       "      <td>3059.232570</td>\n",
       "    </tr>\n",
       "    <tr>\n",
       "      <th>7</th>\n",
       "      <td>Fruits</td>\n",
       "      <td>Dates</td>\n",
       "      <td>2561.357534</td>\n",
       "    </tr>\n",
       "    <tr>\n",
       "      <th>8</th>\n",
       "      <td>Fruits</td>\n",
       "      <td>Grapes</td>\n",
       "      <td>729.732055</td>\n",
       "    </tr>\n",
       "    <tr>\n",
       "      <th>9</th>\n",
       "      <td>Fruits</td>\n",
       "      <td>Lemons and limes</td>\n",
       "      <td>558.691132</td>\n",
       "    </tr>\n",
       "    <tr>\n",
       "      <th>10</th>\n",
       "      <td>Fruits</td>\n",
       "      <td>Olives</td>\n",
       "      <td>6509.767878</td>\n",
       "    </tr>\n",
       "    <tr>\n",
       "      <th>11</th>\n",
       "      <td>Fruits</td>\n",
       "      <td>Pineapples</td>\n",
       "      <td>540.928760</td>\n",
       "    </tr>\n",
       "    <tr>\n",
       "      <th>12</th>\n",
       "      <td>Fruits</td>\n",
       "      <td>Strawberries</td>\n",
       "      <td>429.585905</td>\n",
       "    </tr>\n",
       "    <tr>\n",
       "      <th>13</th>\n",
       "      <td>Lux-foods</td>\n",
       "      <td>Cocoa beans</td>\n",
       "      <td>24259.055437</td>\n",
       "    </tr>\n",
       "    <tr>\n",
       "      <th>14</th>\n",
       "      <td>Vegetables</td>\n",
       "      <td>Carrots and turnips</td>\n",
       "      <td>187.809328</td>\n",
       "    </tr>\n",
       "    <tr>\n",
       "      <th>15</th>\n",
       "      <td>Vegetables</td>\n",
       "      <td>Lettuce and chicory</td>\n",
       "      <td>167.066057</td>\n",
       "    </tr>\n",
       "    <tr>\n",
       "      <th>16</th>\n",
       "      <td>Vegetables</td>\n",
       "      <td>Mushrooms and truffles</td>\n",
       "      <td>184.270161</td>\n",
       "    </tr>\n",
       "    <tr>\n",
       "      <th>17</th>\n",
       "      <td>Vegetables</td>\n",
       "      <td>Onions (inc. shallots), green</td>\n",
       "      <td>377.584325</td>\n",
       "    </tr>\n",
       "    <tr>\n",
       "      <th>18</th>\n",
       "      <td>Vegetables</td>\n",
       "      <td>Potatoes</td>\n",
       "      <td>200.087691</td>\n",
       "    </tr>\n",
       "    <tr>\n",
       "      <th>19</th>\n",
       "      <td>Vegetables</td>\n",
       "      <td>Pumpkins, squash and gourds</td>\n",
       "      <td>128.482148</td>\n",
       "    </tr>\n",
       "    <tr>\n",
       "      <th>20</th>\n",
       "      <td>Vegetables</td>\n",
       "      <td>Tomatoes</td>\n",
       "      <td>97.765596</td>\n",
       "    </tr>\n",
       "  </tbody>\n",
       "</table>\n",
       "</div>"
      ],
      "text/plain": [
       "   Item Category                      Item Name          mean\n",
       "0        Cereals                          Maize   1674.101605\n",
       "1        Cereals                    Rice, paddy   1788.696999\n",
       "2         Fruits            Almonds, with shell   8151.645724\n",
       "3         Fruits                         Apples    438.329070\n",
       "4         Fruits                       Avocados   2009.206797\n",
       "5         Fruits                        Bananas   2227.226955\n",
       "6         Fruits                       Coconuts   3059.232570\n",
       "7         Fruits                          Dates   2561.357534\n",
       "8         Fruits                         Grapes    729.732055\n",
       "9         Fruits               Lemons and limes    558.691132\n",
       "10        Fruits                         Olives   6509.767878\n",
       "11        Fruits                     Pineapples    540.928760\n",
       "12        Fruits                   Strawberries    429.585905\n",
       "13     Lux-foods                    Cocoa beans  24259.055437\n",
       "14    Vegetables            Carrots and turnips    187.809328\n",
       "15    Vegetables            Lettuce and chicory    167.066057\n",
       "16    Vegetables         Mushrooms and truffles    184.270161\n",
       "17    Vegetables  Onions (inc. shallots), green    377.584325\n",
       "18    Vegetables                       Potatoes    200.087691\n",
       "19    Vegetables    Pumpkins, squash and gourds    128.482148\n",
       "20    Vegetables                       Tomatoes     97.765596"
      ]
     },
     "execution_count": 7,
     "metadata": {},
     "output_type": "execute_result"
    }
   ],
   "source": [
    "#create a new database with the mean waterfootprint per product over all countries\n",
    "temp1 = pd.pivot_table(db, values='mean', index=['Item Category', 'Item Name'], aggfunc=np.mean).reset_index()\n",
    "temp1"
   ]
  },
  {
   "cell_type": "code",
   "execution_count": 8,
   "id": "bea5fadc",
   "metadata": {},
   "outputs": [
    {
     "data": {
      "text/html": [
       "<div>\n",
       "<style scoped>\n",
       "    .dataframe tbody tr th:only-of-type {\n",
       "        vertical-align: middle;\n",
       "    }\n",
       "\n",
       "    .dataframe tbody tr th {\n",
       "        vertical-align: top;\n",
       "    }\n",
       "\n",
       "    .dataframe thead th {\n",
       "        text-align: right;\n",
       "    }\n",
       "</style>\n",
       "<table border=\"1\" class=\"dataframe\">\n",
       "  <thead>\n",
       "    <tr style=\"text-align: right;\">\n",
       "      <th></th>\n",
       "      <th>Item Category</th>\n",
       "      <th>Item Name</th>\n",
       "      <th>mean</th>\n",
       "    </tr>\n",
       "  </thead>\n",
       "  <tbody>\n",
       "    <tr>\n",
       "      <th>0</th>\n",
       "      <td>Lux-foods</td>\n",
       "      <td>Cocoa beans</td>\n",
       "      <td>24259.055437</td>\n",
       "    </tr>\n",
       "    <tr>\n",
       "      <th>1</th>\n",
       "      <td>Cereals</td>\n",
       "      <td>Maize</td>\n",
       "      <td>1674.101605</td>\n",
       "    </tr>\n",
       "    <tr>\n",
       "      <th>2</th>\n",
       "      <td>Fruits</td>\n",
       "      <td>Strawberries</td>\n",
       "      <td>429.585905</td>\n",
       "    </tr>\n",
       "    <tr>\n",
       "      <th>3</th>\n",
       "      <td>Vegetables</td>\n",
       "      <td>Tomatoes</td>\n",
       "      <td>97.765596</td>\n",
       "    </tr>\n",
       "  </tbody>\n",
       "</table>\n",
       "</div>"
      ],
      "text/plain": [
       "  Item Category     Item Name          mean\n",
       "0     Lux-foods   Cocoa beans  24259.055437\n",
       "1       Cereals         Maize   1674.101605\n",
       "2        Fruits  Strawberries    429.585905\n",
       "3    Vegetables      Tomatoes     97.765596"
      ]
     },
     "execution_count": 8,
     "metadata": {},
     "output_type": "execute_result"
    }
   ],
   "source": [
    "#identify the products with the lowest mean waterfootprint per category and safe in the database \"subs\" (substitute)\n",
    "#sort decreasing\n",
    "#group by Item Category\n",
    "#filter for the last element of every category (the product with the lowest waterfootprint per category)\n",
    "subs = temp1.sort_values('mean', ascending=False).groupby('Item Category').tail(1)\n",
    "subs = subs.reset_index().drop(['index'], axis = 1)\n",
    "subs"
   ]
  },
  {
   "cell_type": "code",
   "execution_count": 9,
   "id": "2db157dd",
   "metadata": {},
   "outputs": [],
   "source": [
    "#make a list of the productnames from the dataset\n",
    "products = temp1['Item Name'].tolist()"
   ]
  },
  {
   "cell_type": "markdown",
   "id": "33803cd6",
   "metadata": {},
   "source": [
    "### Fragestellungen:\n",
    "- Produktklasssen: Was sind empfehlenswerte Alternativen für “Lieblingsprodukte”? (Produktklassen einteilen und Empfehlungen für Alternativen geben, z.B. Nüsse)\n",
    "\n",
    "- Calculator: Wie lässt sich der water footprint für eine Liste an Produkten berechnen?"
   ]
  },
  {
   "cell_type": "markdown",
   "id": "b68fd4cd",
   "metadata": {},
   "source": [
    "## Lösung der 1. Fragen:\n",
    "- Durchschnitt vs. letzter Wert als Referenz? Was haltet ihr von letztem aktuellste Wert?\n",
    "- Identifiziere pro Kategorie das Produkt mit dem geringsten Wasser Verbrauch\n",
    "- Abfrage: Was ist dein Lieblingsprodukt?\n",
    "- Antwort: Für den Anbau deines Lieblingsprudukts wird ... liter Wasser pro Kg? verbraucht. Wenn du stattdessen ... Ausprobierst würdest du ... Liter Wasser pro Kg einsparen. "
   ]
  },
  {
   "cell_type": "code",
   "execution_count": 10,
   "id": "f83bc155",
   "metadata": {
    "scrolled": true
   },
   "outputs": [
    {
     "name": "stdout",
     "output_type": "stream",
     "text": [
      "What is your favorite product? Potatoes\n",
      "\n",
      "Your favorite product uses around 200 liters of water in its production and belongs to the Item Category \"Vegetables\". In this category, \"Tomatoes\" consumes the least. \n",
      "If you were to replace your favorite product with this, you could save about 102 liters of water per kg and you would only use 98 liters of water per kg. \n"
     ]
    }
   ],
   "source": [
    "Input = input(\"What is your favorite product? \")\n",
    "while temp1.loc[temp1['Item Name']==Input].shape[0] == 0:\n",
    "    print('Das Produkt \"{}\" ist nicht in unserer Datenbank enthalten. Bitte wähle ein neues aus folgender Liste:{} \\n'\n",
    "         .format(Input, products))\n",
    "    Input = input(\"What is your favorite product? \")\n",
    "else:  \n",
    "    temp2 = temp1.loc[temp1['Item Name']==Input].iloc[0,-1] #waterfootprint of the product\n",
    "    temp3 = temp1.loc[temp1['Item Name']==Input].iloc[0,0] #cateogy of the product\n",
    "    temp4 = subs.loc[subs['Item Category']==temp3].iloc[0,1] #replacement product\n",
    "    temp5 = subs.loc[subs['Item Category']==temp3].iloc[0,2] #waterfootprint of the replacement product\n",
    "    temp6 = temp2-temp5 #water saving\n",
    "    if temp6 == 0:\n",
    "        print('\\nYoure favorite product is already the one with the lowest waterfootprint in the category \"{}\". '\n",
    "              .format(temp3))\n",
    "    else:\n",
    "        print('\\nYour favorite product uses around {:.0f} liters of water in its production and belongs to the Item Category \"{}\". In this category, \"{}\" consumes the least. \\nIf you were to replace your favorite product with this, you could save about {:.0f} liters of water per kg and you would only use {:.0f} liters of water per kg. '\n",
    "              .format(temp2, temp3, temp4, temp6, temp5)) #variable values for the text"
   ]
  },
  {
   "cell_type": "markdown",
   "id": "ee457f12",
   "metadata": {},
   "source": [
    "## Lösung der 2. Fragen:\n",
    "- Aufbauend auf davor\n",
    "- Abfrage Schleife\n",
    "    - Welches Produkt möchtest du für deinen Smoothie verwenden?\n",
    "    - Antwort, falls dieses Produkt nicht in unserer Datenbank enthalten ist \"Wir haben für dieses Produkt keine Daten, daher würden wir einen Durchschnittlichen Wasserverbrauch von ... Liter pro Kg für die Berechnung verwenden. Ist das für dich in Ordnung oder möchtest du lieber ein anderes Produkt in deinen Smoothie aufnehmen?\n",
    "    - Ja/Nein Option\n",
    "    - Wie viel möchtest du von... in deinen Smoothie in Kg geben?\n",
    "    - Möchtest du weitere Zutaten in deinen Smoothie geben?\n",
    "    - Ja/Nein Option\n",
    "    - Berechnung\n",
    "    - Ausgabe: Dein Smoothie würde aktuell ... Liter Wasser für die Produktin benötigen\n",
    "    - Alternativ Produkt aus 1. Vorschlagen\n",
    "    - Ausgabe: Wenn du statt... lieber ... verwenden würdest, önntest du für deinen Smoothie... Lietr Wasser einsparen. Möchtest du dies ausporbieren?\n",
    "    - Ja/Nein Option\n",
    "- Ausgabe: Ok, für den Anbau deiner Smoothie zutaten würden ... Liter Wasser benötigt."
   ]
  },
  {
   "cell_type": "code",
   "execution_count": 11,
   "id": "fd4f5f42",
   "metadata": {
    "scrolled": true
   },
   "outputs": [
    {
     "name": "stdout",
     "output_type": "stream",
     "text": [
      "Which ingredient would you like to add to your smoothie? Potatoes\n",
      "How much of it would you like to add to your smoothie in kg?3\n",
      "\n",
      "Would you like to add another ingredient to your smoothie?(Y/N) d\n",
      "\n",
      "600 liters of water were used to produce the ingredients for your smoothie. You could improve your smoothie the most if you swapped Potatoes for Tomatoes. Then you could save 307 liters of water. \n"
     ]
    }
   ],
   "source": [
    "temp2 = 0 #set the waterfootprint of a smoothie with no ingredients to zero\n",
    "temp10 = 'y' #used for the loop\n",
    "Ingr = pd.DataFrame([], columns= ['Intgredients', 'Wasserverbrauch', 'Änderung']) #database to safe all the ingredients, the waterfootprint and the possible waterfootprint of the ingredients\n",
    "\n",
    "while temp10.lower() == 'y':\n",
    "    Input = input('Which ingredient would you like to add to your smoothie? ') #query of the ingredients\n",
    "    while temp1.loc[temp1['Item Name']==Input].shape[0] == 0: #is true if the input is no product of the dataset       \n",
    "        print('The product \"{}\" does not exist in our database. Please choose a new one from the following list: {} \\n'\n",
    "             .format(Input, products)) #print the list of the possible products\n",
    "        Input = input('Which ingredient would you like to add to your smoothie? ')\n",
    "    else:  \n",
    "        Qty = input('How much of it would you like to add to your smoothie in kg?') #query of the quantity \n",
    "        temp3 = float(temp1.loc[temp1['Item Name']==Input].iloc[0,-1])*float(Qty) #used water for the product * quantity\n",
    "        temp4 = temp1.loc[temp1['Item Name']==Input].iloc[0,0] #category of the input product\n",
    "        temp5 = subs.loc[subs['Item Category']==temp4].iloc[0,1] #replacement product\n",
    "        temp6 = subs.loc[subs['Item Category']==temp4].iloc[0,2] #waterfootprint of the replacement product\n",
    "        temp7 = float(temp3)-float(temp6)*float(Qty) #water saving\n",
    "        temp2 += temp3 #calculate the waterfootprint of the smoothie\n",
    "        Ingr.loc[len(Ingr.index)] = [Input, temp3, temp7] #safe the data in the database \"Ingr\"\n",
    "        temp10 = input(\"\\nWould you like to add another ingredient to your smoothie?(Y/N) \") #include additional ingredients?\n",
    "        \n",
    "else:\n",
    "    Ingr.sort_values('Änderung', ascending=True).tail(1)\n",
    "    temp11 = Ingr.sort_values('Änderung', ascending=True).tail(1).iloc[0,0] #product with the highest waterfootprint in the smoothie\n",
    "    temp12 = Ingr.sort_values('Änderung', ascending=True).tail(1).iloc[0,2] #max water saving\n",
    "    temp13 = temp1.loc[temp1['Item Name']==Ingr.sort_values('Änderung', ascending=True).tail(1).iloc[0,0]].iloc[0,0] #category of the replacement product\n",
    "    temp14 = subs.loc[subs['Item Category']==temp13].iloc[0,1] #replacement product with highest water saving\n",
    "    print('\\n{:.0f} liters of water were used to produce the ingredients for your smoothie. You could improve your smoothie the most if you swapped {} for {}. Then you could save {:.0f} liters of water. '\n",
    "         .format(temp2, \n",
    "                 temp11,\n",
    "                 temp14,\n",
    "                 temp12))"
   ]
  },
  {
   "cell_type": "code",
   "execution_count": null,
   "id": "d227edac",
   "metadata": {},
   "outputs": [],
   "source": []
  }
 ],
 "metadata": {
  "kernelspec": {
   "display_name": "Python 3",
   "language": "python",
   "name": "python3"
  },
  "language_info": {
   "codemirror_mode": {
    "name": "ipython",
    "version": 3
   },
   "file_extension": ".py",
   "mimetype": "text/x-python",
   "name": "python",
   "nbconvert_exporter": "python",
   "pygments_lexer": "ipython3",
   "version": "3.7.10"
  }
 },
 "nbformat": 4,
 "nbformat_minor": 5
}
