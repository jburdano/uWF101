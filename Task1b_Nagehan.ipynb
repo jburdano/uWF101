{
 "cells": [
  {
   "cell_type": "code",
   "execution_count": 1,
   "id": "390e5f76",
   "metadata": {},
   "outputs": [],
   "source": [
    "#Task 1b: Which crops need least water?"
   ]
  },
  {
   "cell_type": "code",
   "execution_count": 2,
   "id": "75a470c3",
   "metadata": {},
   "outputs": [],
   "source": [
    "import pandas as pd\n",
    "import numpy as np"
   ]
  },
  {
   "cell_type": "code",
   "execution_count": 3,
   "id": "c249420e",
   "metadata": {},
   "outputs": [],
   "source": [
    "from pandas import DataFrame"
   ]
  },
  {
   "cell_type": "code",
   "execution_count": 4,
   "id": "848a223b",
   "metadata": {},
   "outputs": [],
   "source": [
    "from pandas.errors import EmptyDataError"
   ]
  },
  {
   "cell_type": "code",
   "execution_count": 5,
   "id": "270ae616",
   "metadata": {},
   "outputs": [],
   "source": [
    "db = pd.DataFrame(pd.read_csv('New_2016.csv', sep=';', header=1))"
   ]
  },
  {
   "cell_type": "code",
   "execution_count": 6,
   "id": "ec69286d",
   "metadata": {},
   "outputs": [
    {
     "data": {
      "text/html": [
       "<div>\n",
       "<style scoped>\n",
       "    .dataframe tbody tr th:only-of-type {\n",
       "        vertical-align: middle;\n",
       "    }\n",
       "\n",
       "    .dataframe tbody tr th {\n",
       "        vertical-align: top;\n",
       "    }\n",
       "\n",
       "    .dataframe thead th {\n",
       "        text-align: right;\n",
       "    }\n",
       "</style>\n",
       "<table border=\"1\" class=\"dataframe\">\n",
       "  <thead>\n",
       "    <tr style=\"text-align: right;\">\n",
       "      <th></th>\n",
       "      <th>Country Name</th>\n",
       "      <th>Country FAO Code</th>\n",
       "      <th>Country ISO2</th>\n",
       "      <th>Item Name</th>\n",
       "      <th>Item FAO Code</th>\n",
       "      <th>Item Category</th>\n",
       "      <th>Unit of Measure</th>\n",
       "      <th>2016</th>\n",
       "    </tr>\n",
       "  </thead>\n",
       "  <tbody>\n",
       "    <tr>\n",
       "      <th>0</th>\n",
       "      <td>Austria</td>\n",
       "      <td>11</td>\n",
       "      <td>AT</td>\n",
       "      <td>Apples</td>\n",
       "      <td>515</td>\n",
       "      <td>Fruits</td>\n",
       "      <td>m3/ton</td>\n",
       "      <td>251.289993</td>\n",
       "    </tr>\n",
       "    <tr>\n",
       "      <th>1</th>\n",
       "      <td>Austria</td>\n",
       "      <td>11</td>\n",
       "      <td>AT</td>\n",
       "      <td>Asparagus</td>\n",
       "      <td>367</td>\n",
       "      <td>Vegetables</td>\n",
       "      <td>m3/ton</td>\n",
       "      <td>2152.719971</td>\n",
       "    </tr>\n",
       "    <tr>\n",
       "      <th>2</th>\n",
       "      <td>Austria</td>\n",
       "      <td>11</td>\n",
       "      <td>AT</td>\n",
       "      <td>Carrots and turnips</td>\n",
       "      <td>426</td>\n",
       "      <td>Vegetables</td>\n",
       "      <td>m3/ton</td>\n",
       "      <td>88.053802</td>\n",
       "    </tr>\n",
       "    <tr>\n",
       "      <th>3</th>\n",
       "      <td>Austria</td>\n",
       "      <td>11</td>\n",
       "      <td>AT</td>\n",
       "      <td>Cherries</td>\n",
       "      <td>531</td>\n",
       "      <td>Fruits</td>\n",
       "      <td>m3/ton</td>\n",
       "      <td>687.744019</td>\n",
       "    </tr>\n",
       "    <tr>\n",
       "      <th>4</th>\n",
       "      <td>Austria</td>\n",
       "      <td>11</td>\n",
       "      <td>AT</td>\n",
       "      <td>Chillies and peppers, green</td>\n",
       "      <td>401</td>\n",
       "      <td>Vegetables</td>\n",
       "      <td>m3/ton</td>\n",
       "      <td>49.357101</td>\n",
       "    </tr>\n",
       "  </tbody>\n",
       "</table>\n",
       "</div>"
      ],
      "text/plain": [
       "  Country Name  Country FAO Code Country ISO2                    Item Name  \\\n",
       "0      Austria                11           AT                       Apples   \n",
       "1      Austria                11           AT                    Asparagus   \n",
       "2      Austria                11           AT          Carrots and turnips   \n",
       "3      Austria                11           AT                     Cherries   \n",
       "4      Austria                11           AT  Chillies and peppers, green   \n",
       "\n",
       "   Item FAO Code Item Category Unit of Measure         2016  \n",
       "0            515        Fruits          m3/ton   251.289993  \n",
       "1            367    Vegetables          m3/ton  2152.719971  \n",
       "2            426    Vegetables          m3/ton    88.053802  \n",
       "3            531        Fruits          m3/ton   687.744019  \n",
       "4            401    Vegetables          m3/ton    49.357101  "
      ]
     },
     "execution_count": 6,
     "metadata": {},
     "output_type": "execute_result"
    }
   ],
   "source": [
    "db.head()"
   ]
  },
  {
   "cell_type": "code",
   "execution_count": 7,
   "id": "feb0a653",
   "metadata": {},
   "outputs": [
    {
     "data": {
      "text/html": [
       "<div>\n",
       "<style scoped>\n",
       "    .dataframe tbody tr th:only-of-type {\n",
       "        vertical-align: middle;\n",
       "    }\n",
       "\n",
       "    .dataframe tbody tr th {\n",
       "        vertical-align: top;\n",
       "    }\n",
       "\n",
       "    .dataframe thead th {\n",
       "        text-align: right;\n",
       "    }\n",
       "</style>\n",
       "<table border=\"1\" class=\"dataframe\">\n",
       "  <thead>\n",
       "    <tr style=\"text-align: right;\">\n",
       "      <th></th>\n",
       "      <th>Country FAO Code</th>\n",
       "      <th>Item FAO Code</th>\n",
       "      <th>2016</th>\n",
       "    </tr>\n",
       "  </thead>\n",
       "  <tbody>\n",
       "    <tr>\n",
       "      <th>count</th>\n",
       "      <td>225.000000</td>\n",
       "      <td>225.000000</td>\n",
       "      <td>225.000000</td>\n",
       "    </tr>\n",
       "    <tr>\n",
       "      <th>mean</th>\n",
       "      <td>148.066667</td>\n",
       "      <td>401.800000</td>\n",
       "      <td>585.799797</td>\n",
       "    </tr>\n",
       "    <tr>\n",
       "      <th>std</th>\n",
       "      <td>71.536517</td>\n",
       "      <td>139.993559</td>\n",
       "      <td>1761.778390</td>\n",
       "    </tr>\n",
       "    <tr>\n",
       "      <th>min</th>\n",
       "      <td>11.000000</td>\n",
       "      <td>56.000000</td>\n",
       "      <td>0.000000</td>\n",
       "    </tr>\n",
       "    <tr>\n",
       "      <th>25%</th>\n",
       "      <td>84.000000</td>\n",
       "      <td>372.000000</td>\n",
       "      <td>82.842598</td>\n",
       "    </tr>\n",
       "    <tr>\n",
       "      <th>50%</th>\n",
       "      <td>150.000000</td>\n",
       "      <td>401.000000</td>\n",
       "      <td>159.078003</td>\n",
       "    </tr>\n",
       "    <tr>\n",
       "      <th>75%</th>\n",
       "      <td>203.000000</td>\n",
       "      <td>521.000000</td>\n",
       "      <td>519.427002</td>\n",
       "    </tr>\n",
       "    <tr>\n",
       "      <th>max</th>\n",
       "      <td>272.000000</td>\n",
       "      <td>560.000000</td>\n",
       "      <td>21696.099609</td>\n",
       "    </tr>\n",
       "  </tbody>\n",
       "</table>\n",
       "</div>"
      ],
      "text/plain": [
       "       Country FAO Code  Item FAO Code          2016\n",
       "count        225.000000     225.000000    225.000000\n",
       "mean         148.066667     401.800000    585.799797\n",
       "std           71.536517     139.993559   1761.778390\n",
       "min           11.000000      56.000000      0.000000\n",
       "25%           84.000000     372.000000     82.842598\n",
       "50%          150.000000     401.000000    159.078003\n",
       "75%          203.000000     521.000000    519.427002\n",
       "max          272.000000     560.000000  21696.099609"
      ]
     },
     "execution_count": 7,
     "metadata": {},
     "output_type": "execute_result"
    }
   ],
   "source": [
    "db.describe()"
   ]
  },
  {
   "cell_type": "code",
   "execution_count": 8,
   "id": "253e4476",
   "metadata": {},
   "outputs": [
    {
     "data": {
      "text/plain": [
       "(225, 8)"
      ]
     },
     "execution_count": 8,
     "metadata": {},
     "output_type": "execute_result"
    }
   ],
   "source": [
    "db.shape"
   ]
  },
  {
   "cell_type": "code",
   "execution_count": 9,
   "id": "fbf39af8",
   "metadata": {
    "scrolled": true
   },
   "outputs": [
    {
     "data": {
      "text/plain": [
       "Country Name         object\n",
       "Country FAO Code      int64\n",
       "Country ISO2         object\n",
       "Item Name            object\n",
       "Item FAO Code         int64\n",
       "Item Category        object\n",
       "Unit of Measure      object\n",
       "2016                float64\n",
       "dtype: object"
      ]
     },
     "execution_count": 9,
     "metadata": {},
     "output_type": "execute_result"
    }
   ],
   "source": [
    "db.dtypes"
   ]
  },
  {
   "cell_type": "code",
   "execution_count": null,
   "id": "3f3c7e06",
   "metadata": {},
   "outputs": [],
   "source": [
    "#Task 1b: Which crops need least water?"
   ]
  },
  {
   "cell_type": "code",
   "execution_count": 10,
   "id": "958e0670",
   "metadata": {},
   "outputs": [],
   "source": [
    "mask = db.loc[:,'2016']>5000\n",
    "db.loc[mask,'2016']=np.nan"
   ]
  },
  {
   "cell_type": "code",
   "execution_count": 11,
   "id": "86268b7f",
   "metadata": {},
   "outputs": [
    {
     "data": {
      "text/plain": [
       "'Tomatoes'"
      ]
     },
     "execution_count": 11,
     "metadata": {},
     "output_type": "execute_result"
    }
   ],
   "source": [
    "top_item = db.groupby('Item Name')['2016'].mean().sort_values(ascending=True)\n",
    "top_item.index[0]"
   ]
  },
  {
   "cell_type": "code",
   "execution_count": 12,
   "id": "9f87b5e4",
   "metadata": {},
   "outputs": [
    {
     "data": {
      "text/plain": [
       "Item Name\n",
       "Tomatoes                         68.395452\n",
       "Cucumbers and gherkins           83.259040\n",
       "Chillies and peppers, green      94.411050\n",
       "Carrots and turnips              97.230101\n",
       "Lettuce and chicory             116.846334\n",
       "Potatoes                        144.675726\n",
       "Mushrooms and truffles          148.780370\n",
       "Pumpkins, squash and gourds     288.230651\n",
       "Apples                          365.470595\n",
       "Peaches and nectarines          462.317270\n",
       "Pears                           470.233466\n",
       "Grapes                          566.830861\n",
       "Maize                           798.215393\n",
       "Asparagus                      1081.590141\n",
       "Cherries                       1627.456066\n",
       "Name: 2016, dtype: float64"
      ]
     },
     "execution_count": 12,
     "metadata": {},
     "output_type": "execute_result"
    }
   ],
   "source": [
    "db.groupby('Item Name')['2016'].mean().sort_values(ascending=True)"
   ]
  },
  {
   "cell_type": "code",
   "execution_count": 13,
   "id": "15033436",
   "metadata": {},
   "outputs": [
    {
     "data": {
      "text/plain": [
       "'Cucumbers and gherkins'"
      ]
     },
     "execution_count": 13,
     "metadata": {},
     "output_type": "execute_result"
    }
   ],
   "source": [
    "top_item = db.groupby('Item Name')['2016'].mean().sort_values(ascending=True)\n",
    "top_item.index[1]"
   ]
  },
  {
   "cell_type": "code",
   "execution_count": 14,
   "id": "c31f68e3",
   "metadata": {},
   "outputs": [
    {
     "data": {
      "text/plain": [
       "'Chillies and peppers, green'"
      ]
     },
     "execution_count": 14,
     "metadata": {},
     "output_type": "execute_result"
    }
   ],
   "source": [
    "top_item = db.groupby('Item Name')['2016'].mean().sort_values(ascending=True)\n",
    "top_item.index[2]"
   ]
  },
  {
   "cell_type": "code",
   "execution_count": 15,
   "id": "7b8d5247",
   "metadata": {},
   "outputs": [
    {
     "data": {
      "text/plain": [
       "'Carrots and turnips'"
      ]
     },
     "execution_count": 15,
     "metadata": {},
     "output_type": "execute_result"
    }
   ],
   "source": [
    "top_item = db.groupby('Item Name')['2016'].mean().sort_values(ascending=True)\n",
    "top_item.index[3]"
   ]
  },
  {
   "cell_type": "code",
   "execution_count": 16,
   "id": "d1f45f10",
   "metadata": {},
   "outputs": [
    {
     "data": {
      "text/plain": [
       "'Lettuce and chicory'"
      ]
     },
     "execution_count": 16,
     "metadata": {},
     "output_type": "execute_result"
    }
   ],
   "source": [
    "top_item = db.groupby('Item Name')['2016'].mean().sort_values(ascending=True)\n",
    "top_item.index[4]"
   ]
  },
  {
   "cell_type": "code",
   "execution_count": 17,
   "id": "2a634090",
   "metadata": {},
   "outputs": [
    {
     "data": {
      "text/plain": [
       "'Potatoes'"
      ]
     },
     "execution_count": 17,
     "metadata": {},
     "output_type": "execute_result"
    }
   ],
   "source": [
    "top_item = db.groupby('Item Name')['2016'].mean().sort_values(ascending=True)\n",
    "top_item.index[5]"
   ]
  },
  {
   "cell_type": "code",
   "execution_count": null,
   "id": "d1900bc2",
   "metadata": {},
   "outputs": [],
   "source": []
  }
 ],
 "metadata": {
  "kernelspec": {
   "display_name": "Python 3",
   "language": "python",
   "name": "python3"
  },
  "language_info": {
   "codemirror_mode": {
    "name": "ipython",
    "version": 3
   },
   "file_extension": ".py",
   "mimetype": "text/x-python",
   "name": "python",
   "nbconvert_exporter": "python",
   "pygments_lexer": "ipython3",
   "version": "3.8.8"
  }
 },
 "nbformat": 4,
 "nbformat_minor": 5
}
