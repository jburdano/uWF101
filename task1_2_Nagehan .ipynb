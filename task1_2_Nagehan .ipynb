{
 "cells": [
  {
   "cell_type": "code",
   "execution_count": null,
   "id": "de1f96b0",
   "metadata": {},
   "outputs": [],
   "source": [
    "#Task 1: Which crops need most/least water?"
   ]
  },
  {
   "cell_type": "code",
   "execution_count": 1,
   "id": "e4f9f73d",
   "metadata": {},
   "outputs": [],
   "source": [
    "import pandas as pd\n",
    "import numpy as np"
   ]
  },
  {
   "cell_type": "code",
   "execution_count": 2,
   "id": "a218a2ee",
   "metadata": {},
   "outputs": [],
   "source": [
    "from pandas import DataFrame"
   ]
  },
  {
   "cell_type": "code",
   "execution_count": 3,
   "id": "a257759f",
   "metadata": {},
   "outputs": [],
   "source": [
    "from pandas.errors import EmptyDataError"
   ]
  },
  {
   "cell_type": "code",
   "execution_count": 4,
   "id": "81df3be5",
   "metadata": {},
   "outputs": [],
   "source": [
    "db = pd.DataFrame(pd.read_csv('New_2016.csv', sep=';', header=1))"
   ]
  },
  {
   "cell_type": "code",
   "execution_count": 5,
   "id": "801642b7",
   "metadata": {},
   "outputs": [
    {
     "data": {
      "text/html": [
       "<div>\n",
       "<style scoped>\n",
       "    .dataframe tbody tr th:only-of-type {\n",
       "        vertical-align: middle;\n",
       "    }\n",
       "\n",
       "    .dataframe tbody tr th {\n",
       "        vertical-align: top;\n",
       "    }\n",
       "\n",
       "    .dataframe thead th {\n",
       "        text-align: right;\n",
       "    }\n",
       "</style>\n",
       "<table border=\"1\" class=\"dataframe\">\n",
       "  <thead>\n",
       "    <tr style=\"text-align: right;\">\n",
       "      <th></th>\n",
       "      <th>Country Name</th>\n",
       "      <th>Country FAO Code</th>\n",
       "      <th>Country ISO2</th>\n",
       "      <th>Item Name</th>\n",
       "      <th>Item FAO Code</th>\n",
       "      <th>Item Category</th>\n",
       "      <th>Unit of Measure</th>\n",
       "      <th>2016</th>\n",
       "    </tr>\n",
       "  </thead>\n",
       "  <tbody>\n",
       "    <tr>\n",
       "      <th>0</th>\n",
       "      <td>Austria</td>\n",
       "      <td>11</td>\n",
       "      <td>AT</td>\n",
       "      <td>Apples</td>\n",
       "      <td>515</td>\n",
       "      <td>Fruits</td>\n",
       "      <td>m3/ton</td>\n",
       "      <td>251.289993</td>\n",
       "    </tr>\n",
       "    <tr>\n",
       "      <th>1</th>\n",
       "      <td>Austria</td>\n",
       "      <td>11</td>\n",
       "      <td>AT</td>\n",
       "      <td>Asparagus</td>\n",
       "      <td>367</td>\n",
       "      <td>Vegetables</td>\n",
       "      <td>m3/ton</td>\n",
       "      <td>2152.719971</td>\n",
       "    </tr>\n",
       "    <tr>\n",
       "      <th>2</th>\n",
       "      <td>Austria</td>\n",
       "      <td>11</td>\n",
       "      <td>AT</td>\n",
       "      <td>Carrots and turnips</td>\n",
       "      <td>426</td>\n",
       "      <td>Vegetables</td>\n",
       "      <td>m3/ton</td>\n",
       "      <td>88.053802</td>\n",
       "    </tr>\n",
       "    <tr>\n",
       "      <th>3</th>\n",
       "      <td>Austria</td>\n",
       "      <td>11</td>\n",
       "      <td>AT</td>\n",
       "      <td>Cherries</td>\n",
       "      <td>531</td>\n",
       "      <td>Fruits</td>\n",
       "      <td>m3/ton</td>\n",
       "      <td>687.744019</td>\n",
       "    </tr>\n",
       "    <tr>\n",
       "      <th>4</th>\n",
       "      <td>Austria</td>\n",
       "      <td>11</td>\n",
       "      <td>AT</td>\n",
       "      <td>Chillies and peppers, green</td>\n",
       "      <td>401</td>\n",
       "      <td>Vegetables</td>\n",
       "      <td>m3/ton</td>\n",
       "      <td>49.357101</td>\n",
       "    </tr>\n",
       "  </tbody>\n",
       "</table>\n",
       "</div>"
      ],
      "text/plain": [
       "  Country Name  Country FAO Code Country ISO2                    Item Name  \\\n",
       "0      Austria                11           AT                       Apples   \n",
       "1      Austria                11           AT                    Asparagus   \n",
       "2      Austria                11           AT          Carrots and turnips   \n",
       "3      Austria                11           AT                     Cherries   \n",
       "4      Austria                11           AT  Chillies and peppers, green   \n",
       "\n",
       "   Item FAO Code Item Category Unit of Measure         2016  \n",
       "0            515        Fruits          m3/ton   251.289993  \n",
       "1            367    Vegetables          m3/ton  2152.719971  \n",
       "2            426    Vegetables          m3/ton    88.053802  \n",
       "3            531        Fruits          m3/ton   687.744019  \n",
       "4            401    Vegetables          m3/ton    49.357101  "
      ]
     },
     "execution_count": 5,
     "metadata": {},
     "output_type": "execute_result"
    }
   ],
   "source": [
    "db.head()"
   ]
  },
  {
   "cell_type": "code",
   "execution_count": 6,
   "id": "3aa84aeb",
   "metadata": {},
   "outputs": [
    {
     "data": {
      "text/html": [
       "<div>\n",
       "<style scoped>\n",
       "    .dataframe tbody tr th:only-of-type {\n",
       "        vertical-align: middle;\n",
       "    }\n",
       "\n",
       "    .dataframe tbody tr th {\n",
       "        vertical-align: top;\n",
       "    }\n",
       "\n",
       "    .dataframe thead th {\n",
       "        text-align: right;\n",
       "    }\n",
       "</style>\n",
       "<table border=\"1\" class=\"dataframe\">\n",
       "  <thead>\n",
       "    <tr style=\"text-align: right;\">\n",
       "      <th></th>\n",
       "      <th>Country FAO Code</th>\n",
       "      <th>Item FAO Code</th>\n",
       "      <th>2016</th>\n",
       "    </tr>\n",
       "  </thead>\n",
       "  <tbody>\n",
       "    <tr>\n",
       "      <th>count</th>\n",
       "      <td>225.000000</td>\n",
       "      <td>225.000000</td>\n",
       "      <td>225.000000</td>\n",
       "    </tr>\n",
       "    <tr>\n",
       "      <th>mean</th>\n",
       "      <td>148.066667</td>\n",
       "      <td>401.800000</td>\n",
       "      <td>585.799797</td>\n",
       "    </tr>\n",
       "    <tr>\n",
       "      <th>std</th>\n",
       "      <td>71.536517</td>\n",
       "      <td>139.993559</td>\n",
       "      <td>1761.778390</td>\n",
       "    </tr>\n",
       "    <tr>\n",
       "      <th>min</th>\n",
       "      <td>11.000000</td>\n",
       "      <td>56.000000</td>\n",
       "      <td>0.000000</td>\n",
       "    </tr>\n",
       "    <tr>\n",
       "      <th>25%</th>\n",
       "      <td>84.000000</td>\n",
       "      <td>372.000000</td>\n",
       "      <td>82.842598</td>\n",
       "    </tr>\n",
       "    <tr>\n",
       "      <th>50%</th>\n",
       "      <td>150.000000</td>\n",
       "      <td>401.000000</td>\n",
       "      <td>159.078003</td>\n",
       "    </tr>\n",
       "    <tr>\n",
       "      <th>75%</th>\n",
       "      <td>203.000000</td>\n",
       "      <td>521.000000</td>\n",
       "      <td>519.427002</td>\n",
       "    </tr>\n",
       "    <tr>\n",
       "      <th>max</th>\n",
       "      <td>272.000000</td>\n",
       "      <td>560.000000</td>\n",
       "      <td>21696.099609</td>\n",
       "    </tr>\n",
       "  </tbody>\n",
       "</table>\n",
       "</div>"
      ],
      "text/plain": [
       "       Country FAO Code  Item FAO Code          2016\n",
       "count        225.000000     225.000000    225.000000\n",
       "mean         148.066667     401.800000    585.799797\n",
       "std           71.536517     139.993559   1761.778390\n",
       "min           11.000000      56.000000      0.000000\n",
       "25%           84.000000     372.000000     82.842598\n",
       "50%          150.000000     401.000000    159.078003\n",
       "75%          203.000000     521.000000    519.427002\n",
       "max          272.000000     560.000000  21696.099609"
      ]
     },
     "execution_count": 6,
     "metadata": {},
     "output_type": "execute_result"
    }
   ],
   "source": [
    "db.describe()"
   ]
  },
  {
   "cell_type": "code",
   "execution_count": 7,
   "id": "2f92dff1",
   "metadata": {},
   "outputs": [
    {
     "data": {
      "text/plain": [
       "(225, 8)"
      ]
     },
     "execution_count": 7,
     "metadata": {},
     "output_type": "execute_result"
    }
   ],
   "source": [
    "db.shape"
   ]
  },
  {
   "cell_type": "code",
   "execution_count": 8,
   "id": "f7aaa5a9",
   "metadata": {
    "scrolled": true
   },
   "outputs": [
    {
     "data": {
      "text/plain": [
       "Country Name         object\n",
       "Country FAO Code      int64\n",
       "Country ISO2         object\n",
       "Item Name            object\n",
       "Item FAO Code         int64\n",
       "Item Category        object\n",
       "Unit of Measure      object\n",
       "2016                float64\n",
       "dtype: object"
      ]
     },
     "execution_count": 8,
     "metadata": {},
     "output_type": "execute_result"
    }
   ],
   "source": [
    "db.dtypes"
   ]
  },
  {
   "cell_type": "code",
   "execution_count": null,
   "id": "3eed1050",
   "metadata": {},
   "outputs": [],
   "source": [
    "#Task1a: Which crops need most water?"
   ]
  },
  {
   "cell_type": "code",
   "execution_count": 9,
   "id": "73ee8dd9",
   "metadata": {},
   "outputs": [],
   "source": [
    "mask = db.loc[:,'2016']>5000\n",
    "db.loc[mask,'2016']=np.nan"
   ]
  },
  {
   "cell_type": "code",
   "execution_count": 10,
   "id": "284e2a3f",
   "metadata": {},
   "outputs": [
    {
     "data": {
      "text/plain": [
       "'Cherries'"
      ]
     },
     "execution_count": 10,
     "metadata": {},
     "output_type": "execute_result"
    }
   ],
   "source": [
    "top_item = db.groupby('Item Name')['2016'].mean().sort_values(ascending=False)\n",
    "top_item.index[0]"
   ]
  },
  {
   "cell_type": "code",
   "execution_count": 11,
   "id": "d33a9300",
   "metadata": {},
   "outputs": [
    {
     "data": {
      "text/plain": [
       "Country Name\n",
       "Morocco        1070.761258\n",
       "Greece          547.131133\n",
       "Spain           505.430340\n",
       "Hungary         434.847174\n",
       "Germany         414.730453\n",
       "Italy           394.936249\n",
       "Turkey          386.794358\n",
       "Romania         370.971670\n",
       "Serbia          359.136073\n",
       "Poland          346.962699\n",
       "Portugal        345.717337\n",
       "France          342.681313\n",
       "Austria         338.906050\n",
       "Belgium         210.827391\n",
       "Netherlands     129.662278\n",
       "Name: 2016, dtype: float64"
      ]
     },
     "execution_count": 11,
     "metadata": {},
     "output_type": "execute_result"
    }
   ],
   "source": [
    "db.groupby('Country Name')['2016'].mean().sort_values(ascending=False)"
   ]
  },
  {
   "cell_type": "code",
   "execution_count": 16,
   "id": "fd49c50f",
   "metadata": {},
   "outputs": [],
   "source": [
    "mask = db.loc[:,'2016']>5000\n",
    "db.loc[mask,'2016']=np.nan"
   ]
  },
  {
   "cell_type": "code",
   "execution_count": 17,
   "id": "6b217116",
   "metadata": {},
   "outputs": [
    {
     "data": {
      "text/plain": [
       "'Asparagus'"
      ]
     },
     "execution_count": 17,
     "metadata": {},
     "output_type": "execute_result"
    }
   ],
   "source": [
    "top_item = db.groupby('Item Name')['2016'].mean().sort_values(ascending=False)\n",
    "top_item.index[1]"
   ]
  },
  {
   "cell_type": "code",
   "execution_count": 18,
   "id": "85bd4830",
   "metadata": {},
   "outputs": [
    {
     "data": {
      "text/plain": [
       "'Maize'"
      ]
     },
     "execution_count": 18,
     "metadata": {},
     "output_type": "execute_result"
    }
   ],
   "source": [
    "top_item = db.groupby('Item Name')['2016'].mean().sort_values(ascending=False)\n",
    "top_item.index[2]"
   ]
  },
  {
   "cell_type": "code",
   "execution_count": 19,
   "id": "095ff715",
   "metadata": {},
   "outputs": [
    {
     "data": {
      "text/plain": [
       "'Grapes'"
      ]
     },
     "execution_count": 19,
     "metadata": {},
     "output_type": "execute_result"
    }
   ],
   "source": [
    "top_item = db.groupby('Item Name')['2016'].mean().sort_values(ascending=False)\n",
    "top_item.index[3]"
   ]
  },
  {
   "cell_type": "code",
   "execution_count": 20,
   "id": "18202b88",
   "metadata": {},
   "outputs": [
    {
     "data": {
      "text/plain": [
       "'Pears'"
      ]
     },
     "execution_count": 20,
     "metadata": {},
     "output_type": "execute_result"
    }
   ],
   "source": [
    "top_item = db.groupby('Item Name')['2016'].mean().sort_values(ascending=False)\n",
    "top_item.index[4]"
   ]
  },
  {
   "cell_type": "code",
   "execution_count": 21,
   "id": "b7166636",
   "metadata": {},
   "outputs": [
    {
     "data": {
      "text/plain": [
       "'Peaches and nectarines'"
      ]
     },
     "execution_count": 21,
     "metadata": {},
     "output_type": "execute_result"
    }
   ],
   "source": [
    "top_item = db.groupby('Item Name')['2016'].mean().sort_values(ascending=False)\n",
    "top_item.index[5]"
   ]
  },
  {
   "cell_type": "code",
   "execution_count": null,
   "id": "4678450c",
   "metadata": {},
   "outputs": [],
   "source": [
    "#Task 2: In which countries do crops generally need most water and should not be imported?"
   ]
  },
  {
   "cell_type": "code",
   "execution_count": 12,
   "id": "86f76407",
   "metadata": {},
   "outputs": [
    {
     "data": {
      "text/html": [
       "<div>\n",
       "<style scoped>\n",
       "    .dataframe tbody tr th:only-of-type {\n",
       "        vertical-align: middle;\n",
       "    }\n",
       "\n",
       "    .dataframe tbody tr th {\n",
       "        vertical-align: top;\n",
       "    }\n",
       "\n",
       "    .dataframe thead th {\n",
       "        text-align: right;\n",
       "    }\n",
       "</style>\n",
       "<table border=\"1\" class=\"dataframe\">\n",
       "  <thead>\n",
       "    <tr style=\"text-align: right;\">\n",
       "      <th></th>\n",
       "      <th>2016</th>\n",
       "      <th>Country Name</th>\n",
       "    </tr>\n",
       "  </thead>\n",
       "  <tbody>\n",
       "    <tr>\n",
       "      <th>108</th>\n",
       "      <td>4152.379883</td>\n",
       "      <td>Morocco</td>\n",
       "    </tr>\n",
       "    <tr>\n",
       "      <th>48</th>\n",
       "      <td>3012.179932</td>\n",
       "      <td>Germany</td>\n",
       "    </tr>\n",
       "    <tr>\n",
       "      <th>198</th>\n",
       "      <td>2309.409912</td>\n",
       "      <td>Spain</td>\n",
       "    </tr>\n",
       "    <tr>\n",
       "      <th>93</th>\n",
       "      <td>2257.370117</td>\n",
       "      <td>Italy</td>\n",
       "    </tr>\n",
       "    <tr>\n",
       "      <th>33</th>\n",
       "      <td>1474.069946</td>\n",
       "      <td>France</td>\n",
       "    </tr>\n",
       "    <tr>\n",
       "      <th>63</th>\n",
       "      <td>1419.510010</td>\n",
       "      <td>Greece</td>\n",
       "    </tr>\n",
       "    <tr>\n",
       "      <th>78</th>\n",
       "      <td>1372.270020</td>\n",
       "      <td>Hungary</td>\n",
       "    </tr>\n",
       "    <tr>\n",
       "      <th>183</th>\n",
       "      <td>1270.900024</td>\n",
       "      <td>Serbia</td>\n",
       "    </tr>\n",
       "    <tr>\n",
       "      <th>18</th>\n",
       "      <td>1156.859985</td>\n",
       "      <td>Belgium</td>\n",
       "    </tr>\n",
       "    <tr>\n",
       "      <th>138</th>\n",
       "      <td>927.682007</td>\n",
       "      <td>Poland</td>\n",
       "    </tr>\n",
       "    <tr>\n",
       "      <th>3</th>\n",
       "      <td>687.744019</td>\n",
       "      <td>Austria</td>\n",
       "    </tr>\n",
       "    <tr>\n",
       "      <th>213</th>\n",
       "      <td>657.968994</td>\n",
       "      <td>Turkey</td>\n",
       "    </tr>\n",
       "    <tr>\n",
       "      <th>168</th>\n",
       "      <td>458.584015</td>\n",
       "      <td>Romania</td>\n",
       "    </tr>\n",
       "    <tr>\n",
       "      <th>123</th>\n",
       "      <td>NaN</td>\n",
       "      <td>Netherlands</td>\n",
       "    </tr>\n",
       "    <tr>\n",
       "      <th>153</th>\n",
       "      <td>NaN</td>\n",
       "      <td>Portugal</td>\n",
       "    </tr>\n",
       "  </tbody>\n",
       "</table>\n",
       "</div>"
      ],
      "text/plain": [
       "            2016 Country Name\n",
       "108  4152.379883      Morocco\n",
       "48   3012.179932      Germany\n",
       "198  2309.409912        Spain\n",
       "93   2257.370117        Italy\n",
       "33   1474.069946       France\n",
       "63   1419.510010       Greece\n",
       "78   1372.270020      Hungary\n",
       "183  1270.900024       Serbia\n",
       "18   1156.859985      Belgium\n",
       "138   927.682007       Poland\n",
       "3     687.744019      Austria\n",
       "213   657.968994       Turkey\n",
       "168   458.584015      Romania\n",
       "123          NaN  Netherlands\n",
       "153          NaN     Portugal"
      ]
     },
     "execution_count": 12,
     "metadata": {},
     "output_type": "execute_result"
    }
   ],
   "source": [
    "mask_cherries = db.loc[:,'Item Name'] == top_item.index[0]\n",
    "db.loc[mask_cherries,['2016','Country Name']].sort_values('2016',ascending = False)"
   ]
  },
  {
   "cell_type": "code",
   "execution_count": null,
   "id": "7e4000f6",
   "metadata": {},
   "outputs": [],
   "source": []
  },
  {
   "cell_type": "code",
   "execution_count": 13,
   "id": "edb4b53e",
   "metadata": {},
   "outputs": [],
   "source": [
    "mask = db.loc[:,'2016']>5000\n",
    "db.loc[mask,'2016']=np.nan"
   ]
  },
  {
   "cell_type": "code",
   "execution_count": 14,
   "id": "95953d29",
   "metadata": {},
   "outputs": [
    {
     "data": {
      "text/plain": [
       "'Asparagus'"
      ]
     },
     "execution_count": 14,
     "metadata": {},
     "output_type": "execute_result"
    }
   ],
   "source": [
    "top_item = db.groupby('Item Name')['2016'].mean().sort_values(ascending=False)\n",
    "top_item.index[1]"
   ]
  },
  {
   "cell_type": "code",
   "execution_count": 15,
   "id": "9de03681",
   "metadata": {},
   "outputs": [
    {
     "data": {
      "text/html": [
       "<div>\n",
       "<style scoped>\n",
       "    .dataframe tbody tr th:only-of-type {\n",
       "        vertical-align: middle;\n",
       "    }\n",
       "\n",
       "    .dataframe tbody tr th {\n",
       "        vertical-align: top;\n",
       "    }\n",
       "\n",
       "    .dataframe thead th {\n",
       "        text-align: right;\n",
       "    }\n",
       "</style>\n",
       "<table border=\"1\" class=\"dataframe\">\n",
       "  <thead>\n",
       "    <tr style=\"text-align: right;\">\n",
       "      <th></th>\n",
       "      <th>2016</th>\n",
       "      <th>Country Name</th>\n",
       "    </tr>\n",
       "  </thead>\n",
       "  <tbody>\n",
       "    <tr>\n",
       "      <th>1</th>\n",
       "      <td>2152.719971</td>\n",
       "      <td>Austria</td>\n",
       "    </tr>\n",
       "    <tr>\n",
       "      <th>196</th>\n",
       "      <td>1921.000000</td>\n",
       "      <td>Spain</td>\n",
       "    </tr>\n",
       "    <tr>\n",
       "      <th>106</th>\n",
       "      <td>1873.810059</td>\n",
       "      <td>Morocco</td>\n",
       "    </tr>\n",
       "    <tr>\n",
       "      <th>61</th>\n",
       "      <td>1769.880005</td>\n",
       "      <td>Greece</td>\n",
       "    </tr>\n",
       "    <tr>\n",
       "      <th>211</th>\n",
       "      <td>1767.810059</td>\n",
       "      <td>Turkey</td>\n",
       "    </tr>\n",
       "    <tr>\n",
       "      <th>76</th>\n",
       "      <td>1515.270020</td>\n",
       "      <td>Hungary</td>\n",
       "    </tr>\n",
       "    <tr>\n",
       "      <th>31</th>\n",
       "      <td>1302.079956</td>\n",
       "      <td>France</td>\n",
       "    </tr>\n",
       "    <tr>\n",
       "      <th>91</th>\n",
       "      <td>1085.510010</td>\n",
       "      <td>Italy</td>\n",
       "    </tr>\n",
       "    <tr>\n",
       "      <th>46</th>\n",
       "      <td>1057.619995</td>\n",
       "      <td>Germany</td>\n",
       "    </tr>\n",
       "    <tr>\n",
       "      <th>121</th>\n",
       "      <td>761.036011</td>\n",
       "      <td>Netherlands</td>\n",
       "    </tr>\n",
       "    <tr>\n",
       "      <th>16</th>\n",
       "      <td>599.791016</td>\n",
       "      <td>Belgium</td>\n",
       "    </tr>\n",
       "    <tr>\n",
       "      <th>136</th>\n",
       "      <td>417.325012</td>\n",
       "      <td>Poland</td>\n",
       "    </tr>\n",
       "    <tr>\n",
       "      <th>151</th>\n",
       "      <td>0.000000</td>\n",
       "      <td>Portugal</td>\n",
       "    </tr>\n",
       "    <tr>\n",
       "      <th>166</th>\n",
       "      <td>0.000000</td>\n",
       "      <td>Romania</td>\n",
       "    </tr>\n",
       "    <tr>\n",
       "      <th>181</th>\n",
       "      <td>0.000000</td>\n",
       "      <td>Serbia</td>\n",
       "    </tr>\n",
       "  </tbody>\n",
       "</table>\n",
       "</div>"
      ],
      "text/plain": [
       "            2016 Country Name\n",
       "1    2152.719971      Austria\n",
       "196  1921.000000        Spain\n",
       "106  1873.810059      Morocco\n",
       "61   1769.880005       Greece\n",
       "211  1767.810059       Turkey\n",
       "76   1515.270020      Hungary\n",
       "31   1302.079956       France\n",
       "91   1085.510010        Italy\n",
       "46   1057.619995      Germany\n",
       "121   761.036011  Netherlands\n",
       "16    599.791016      Belgium\n",
       "136   417.325012       Poland\n",
       "151     0.000000     Portugal\n",
       "166     0.000000      Romania\n",
       "181     0.000000       Serbia"
      ]
     },
     "execution_count": 15,
     "metadata": {},
     "output_type": "execute_result"
    }
   ],
   "source": [
    "mask_asparagus = db.loc[:,'Item Name'] == top_item.index[1]\n",
    "db.loc[mask_asparagus,['2016','Country Name']].sort_values('2016',ascending = False)"
   ]
  },
  {
   "cell_type": "code",
   "execution_count": 22,
   "id": "5c34a33f",
   "metadata": {},
   "outputs": [
    {
     "data": {
      "text/html": [
       "<div>\n",
       "<style scoped>\n",
       "    .dataframe tbody tr th:only-of-type {\n",
       "        vertical-align: middle;\n",
       "    }\n",
       "\n",
       "    .dataframe tbody tr th {\n",
       "        vertical-align: top;\n",
       "    }\n",
       "\n",
       "    .dataframe thead th {\n",
       "        text-align: right;\n",
       "    }\n",
       "</style>\n",
       "<table border=\"1\" class=\"dataframe\">\n",
       "  <thead>\n",
       "    <tr style=\"text-align: right;\">\n",
       "      <th></th>\n",
       "      <th>2016</th>\n",
       "      <th>Country Name</th>\n",
       "    </tr>\n",
       "  </thead>\n",
       "  <tbody>\n",
       "    <tr>\n",
       "      <th>1</th>\n",
       "      <td>2152.719971</td>\n",
       "      <td>Austria</td>\n",
       "    </tr>\n",
       "    <tr>\n",
       "      <th>196</th>\n",
       "      <td>1921.000000</td>\n",
       "      <td>Spain</td>\n",
       "    </tr>\n",
       "    <tr>\n",
       "      <th>106</th>\n",
       "      <td>1873.810059</td>\n",
       "      <td>Morocco</td>\n",
       "    </tr>\n",
       "    <tr>\n",
       "      <th>61</th>\n",
       "      <td>1769.880005</td>\n",
       "      <td>Greece</td>\n",
       "    </tr>\n",
       "    <tr>\n",
       "      <th>211</th>\n",
       "      <td>1767.810059</td>\n",
       "      <td>Turkey</td>\n",
       "    </tr>\n",
       "    <tr>\n",
       "      <th>76</th>\n",
       "      <td>1515.270020</td>\n",
       "      <td>Hungary</td>\n",
       "    </tr>\n",
       "    <tr>\n",
       "      <th>31</th>\n",
       "      <td>1302.079956</td>\n",
       "      <td>France</td>\n",
       "    </tr>\n",
       "    <tr>\n",
       "      <th>91</th>\n",
       "      <td>1085.510010</td>\n",
       "      <td>Italy</td>\n",
       "    </tr>\n",
       "    <tr>\n",
       "      <th>46</th>\n",
       "      <td>1057.619995</td>\n",
       "      <td>Germany</td>\n",
       "    </tr>\n",
       "    <tr>\n",
       "      <th>121</th>\n",
       "      <td>761.036011</td>\n",
       "      <td>Netherlands</td>\n",
       "    </tr>\n",
       "    <tr>\n",
       "      <th>16</th>\n",
       "      <td>599.791016</td>\n",
       "      <td>Belgium</td>\n",
       "    </tr>\n",
       "    <tr>\n",
       "      <th>136</th>\n",
       "      <td>417.325012</td>\n",
       "      <td>Poland</td>\n",
       "    </tr>\n",
       "    <tr>\n",
       "      <th>151</th>\n",
       "      <td>0.000000</td>\n",
       "      <td>Portugal</td>\n",
       "    </tr>\n",
       "    <tr>\n",
       "      <th>166</th>\n",
       "      <td>0.000000</td>\n",
       "      <td>Romania</td>\n",
       "    </tr>\n",
       "    <tr>\n",
       "      <th>181</th>\n",
       "      <td>0.000000</td>\n",
       "      <td>Serbia</td>\n",
       "    </tr>\n",
       "  </tbody>\n",
       "</table>\n",
       "</div>"
      ],
      "text/plain": [
       "            2016 Country Name\n",
       "1    2152.719971      Austria\n",
       "196  1921.000000        Spain\n",
       "106  1873.810059      Morocco\n",
       "61   1769.880005       Greece\n",
       "211  1767.810059       Turkey\n",
       "76   1515.270020      Hungary\n",
       "31   1302.079956       France\n",
       "91   1085.510010        Italy\n",
       "46   1057.619995      Germany\n",
       "121   761.036011  Netherlands\n",
       "16    599.791016      Belgium\n",
       "136   417.325012       Poland\n",
       "151     0.000000     Portugal\n",
       "166     0.000000      Romania\n",
       "181     0.000000       Serbia"
      ]
     },
     "execution_count": 22,
     "metadata": {},
     "output_type": "execute_result"
    }
   ],
   "source": [
    "mask_maize = db.loc[:,'Item Name'] == top_item.index[1]\n",
    "db.loc[mask_maize,['2016','Country Name']].sort_values('2016',ascending = False)"
   ]
  },
  {
   "cell_type": "code",
   "execution_count": 23,
   "id": "ef131d70",
   "metadata": {},
   "outputs": [
    {
     "data": {
      "text/plain": [
       "'Maize'"
      ]
     },
     "execution_count": 23,
     "metadata": {},
     "output_type": "execute_result"
    }
   ],
   "source": [
    "top_item = db.groupby('Item Name')['2016'].mean().sort_values(ascending=False)\n",
    "top_item.index[2]"
   ]
  },
  {
   "cell_type": "code",
   "execution_count": 25,
   "id": "532281f4",
   "metadata": {},
   "outputs": [
    {
     "data": {
      "text/html": [
       "<div>\n",
       "<style scoped>\n",
       "    .dataframe tbody tr th:only-of-type {\n",
       "        vertical-align: middle;\n",
       "    }\n",
       "\n",
       "    .dataframe tbody tr th {\n",
       "        vertical-align: top;\n",
       "    }\n",
       "\n",
       "    .dataframe thead th {\n",
       "        text-align: right;\n",
       "    }\n",
       "</style>\n",
       "<table border=\"1\" class=\"dataframe\">\n",
       "  <thead>\n",
       "    <tr style=\"text-align: right;\">\n",
       "      <th></th>\n",
       "      <th>2016</th>\n",
       "      <th>Country Name</th>\n",
       "    </tr>\n",
       "  </thead>\n",
       "  <tbody>\n",
       "    <tr>\n",
       "      <th>1</th>\n",
       "      <td>2152.719971</td>\n",
       "      <td>Austria</td>\n",
       "    </tr>\n",
       "    <tr>\n",
       "      <th>196</th>\n",
       "      <td>1921.000000</td>\n",
       "      <td>Spain</td>\n",
       "    </tr>\n",
       "    <tr>\n",
       "      <th>106</th>\n",
       "      <td>1873.810059</td>\n",
       "      <td>Morocco</td>\n",
       "    </tr>\n",
       "    <tr>\n",
       "      <th>61</th>\n",
       "      <td>1769.880005</td>\n",
       "      <td>Greece</td>\n",
       "    </tr>\n",
       "    <tr>\n",
       "      <th>211</th>\n",
       "      <td>1767.810059</td>\n",
       "      <td>Turkey</td>\n",
       "    </tr>\n",
       "    <tr>\n",
       "      <th>76</th>\n",
       "      <td>1515.270020</td>\n",
       "      <td>Hungary</td>\n",
       "    </tr>\n",
       "    <tr>\n",
       "      <th>31</th>\n",
       "      <td>1302.079956</td>\n",
       "      <td>France</td>\n",
       "    </tr>\n",
       "    <tr>\n",
       "      <th>91</th>\n",
       "      <td>1085.510010</td>\n",
       "      <td>Italy</td>\n",
       "    </tr>\n",
       "    <tr>\n",
       "      <th>46</th>\n",
       "      <td>1057.619995</td>\n",
       "      <td>Germany</td>\n",
       "    </tr>\n",
       "    <tr>\n",
       "      <th>121</th>\n",
       "      <td>761.036011</td>\n",
       "      <td>Netherlands</td>\n",
       "    </tr>\n",
       "    <tr>\n",
       "      <th>16</th>\n",
       "      <td>599.791016</td>\n",
       "      <td>Belgium</td>\n",
       "    </tr>\n",
       "    <tr>\n",
       "      <th>136</th>\n",
       "      <td>417.325012</td>\n",
       "      <td>Poland</td>\n",
       "    </tr>\n",
       "    <tr>\n",
       "      <th>151</th>\n",
       "      <td>0.000000</td>\n",
       "      <td>Portugal</td>\n",
       "    </tr>\n",
       "    <tr>\n",
       "      <th>166</th>\n",
       "      <td>0.000000</td>\n",
       "      <td>Romania</td>\n",
       "    </tr>\n",
       "    <tr>\n",
       "      <th>181</th>\n",
       "      <td>0.000000</td>\n",
       "      <td>Serbia</td>\n",
       "    </tr>\n",
       "  </tbody>\n",
       "</table>\n",
       "</div>"
      ],
      "text/plain": [
       "            2016 Country Name\n",
       "1    2152.719971      Austria\n",
       "196  1921.000000        Spain\n",
       "106  1873.810059      Morocco\n",
       "61   1769.880005       Greece\n",
       "211  1767.810059       Turkey\n",
       "76   1515.270020      Hungary\n",
       "31   1302.079956       France\n",
       "91   1085.510010        Italy\n",
       "46   1057.619995      Germany\n",
       "121   761.036011  Netherlands\n",
       "16    599.791016      Belgium\n",
       "136   417.325012       Poland\n",
       "151     0.000000     Portugal\n",
       "166     0.000000      Romania\n",
       "181     0.000000       Serbia"
      ]
     },
     "execution_count": 25,
     "metadata": {},
     "output_type": "execute_result"
    }
   ],
   "source": [
    "mask_grapes = db.loc[:,'Item Name'] == top_item.index[1]\n",
    "db.loc[mask_grapes,['2016','Country Name']].sort_values('2016',ascending = False)"
   ]
  },
  {
   "cell_type": "code",
   "execution_count": 26,
   "id": "3e13370d",
   "metadata": {},
   "outputs": [
    {
     "data": {
      "text/plain": [
       "'Grapes'"
      ]
     },
     "execution_count": 26,
     "metadata": {},
     "output_type": "execute_result"
    }
   ],
   "source": [
    "top_item = db.groupby('Item Name')['2016'].mean().sort_values(ascending=False)\n",
    "top_item.index[3]"
   ]
  },
  {
   "cell_type": "code",
   "execution_count": 27,
   "id": "fa5acb15",
   "metadata": {},
   "outputs": [
    {
     "data": {
      "text/html": [
       "<div>\n",
       "<style scoped>\n",
       "    .dataframe tbody tr th:only-of-type {\n",
       "        vertical-align: middle;\n",
       "    }\n",
       "\n",
       "    .dataframe tbody tr th {\n",
       "        vertical-align: top;\n",
       "    }\n",
       "\n",
       "    .dataframe thead th {\n",
       "        text-align: right;\n",
       "    }\n",
       "</style>\n",
       "<table border=\"1\" class=\"dataframe\">\n",
       "  <thead>\n",
       "    <tr style=\"text-align: right;\">\n",
       "      <th></th>\n",
       "      <th>2016</th>\n",
       "      <th>Country Name</th>\n",
       "    </tr>\n",
       "  </thead>\n",
       "  <tbody>\n",
       "    <tr>\n",
       "      <th>1</th>\n",
       "      <td>2152.719971</td>\n",
       "      <td>Austria</td>\n",
       "    </tr>\n",
       "    <tr>\n",
       "      <th>196</th>\n",
       "      <td>1921.000000</td>\n",
       "      <td>Spain</td>\n",
       "    </tr>\n",
       "    <tr>\n",
       "      <th>106</th>\n",
       "      <td>1873.810059</td>\n",
       "      <td>Morocco</td>\n",
       "    </tr>\n",
       "    <tr>\n",
       "      <th>61</th>\n",
       "      <td>1769.880005</td>\n",
       "      <td>Greece</td>\n",
       "    </tr>\n",
       "    <tr>\n",
       "      <th>211</th>\n",
       "      <td>1767.810059</td>\n",
       "      <td>Turkey</td>\n",
       "    </tr>\n",
       "    <tr>\n",
       "      <th>76</th>\n",
       "      <td>1515.270020</td>\n",
       "      <td>Hungary</td>\n",
       "    </tr>\n",
       "    <tr>\n",
       "      <th>31</th>\n",
       "      <td>1302.079956</td>\n",
       "      <td>France</td>\n",
       "    </tr>\n",
       "    <tr>\n",
       "      <th>91</th>\n",
       "      <td>1085.510010</td>\n",
       "      <td>Italy</td>\n",
       "    </tr>\n",
       "    <tr>\n",
       "      <th>46</th>\n",
       "      <td>1057.619995</td>\n",
       "      <td>Germany</td>\n",
       "    </tr>\n",
       "    <tr>\n",
       "      <th>121</th>\n",
       "      <td>761.036011</td>\n",
       "      <td>Netherlands</td>\n",
       "    </tr>\n",
       "    <tr>\n",
       "      <th>16</th>\n",
       "      <td>599.791016</td>\n",
       "      <td>Belgium</td>\n",
       "    </tr>\n",
       "    <tr>\n",
       "      <th>136</th>\n",
       "      <td>417.325012</td>\n",
       "      <td>Poland</td>\n",
       "    </tr>\n",
       "    <tr>\n",
       "      <th>151</th>\n",
       "      <td>0.000000</td>\n",
       "      <td>Portugal</td>\n",
       "    </tr>\n",
       "    <tr>\n",
       "      <th>166</th>\n",
       "      <td>0.000000</td>\n",
       "      <td>Romania</td>\n",
       "    </tr>\n",
       "    <tr>\n",
       "      <th>181</th>\n",
       "      <td>0.000000</td>\n",
       "      <td>Serbia</td>\n",
       "    </tr>\n",
       "  </tbody>\n",
       "</table>\n",
       "</div>"
      ],
      "text/plain": [
       "            2016 Country Name\n",
       "1    2152.719971      Austria\n",
       "196  1921.000000        Spain\n",
       "106  1873.810059      Morocco\n",
       "61   1769.880005       Greece\n",
       "211  1767.810059       Turkey\n",
       "76   1515.270020      Hungary\n",
       "31   1302.079956       France\n",
       "91   1085.510010        Italy\n",
       "46   1057.619995      Germany\n",
       "121   761.036011  Netherlands\n",
       "16    599.791016      Belgium\n",
       "136   417.325012       Poland\n",
       "151     0.000000     Portugal\n",
       "166     0.000000      Romania\n",
       "181     0.000000       Serbia"
      ]
     },
     "execution_count": 27,
     "metadata": {},
     "output_type": "execute_result"
    }
   ],
   "source": [
    "mask_pears = db.loc[:,'Item Name'] == top_item.index[1]\n",
    "db.loc[mask_pears,['2016','Country Name']].sort_values('2016',ascending = False)"
   ]
  },
  {
   "cell_type": "code",
   "execution_count": 28,
   "id": "9c1e6aed",
   "metadata": {},
   "outputs": [
    {
     "data": {
      "text/plain": [
       "'Pears'"
      ]
     },
     "execution_count": 28,
     "metadata": {},
     "output_type": "execute_result"
    }
   ],
   "source": [
    "top_item = db.groupby('Item Name')['2016'].mean().sort_values(ascending=False)\n",
    "top_item.index[4]"
   ]
  },
  {
   "cell_type": "code",
   "execution_count": 29,
   "id": "596d532f",
   "metadata": {},
   "outputs": [
    {
     "data": {
      "text/html": [
       "<div>\n",
       "<style scoped>\n",
       "    .dataframe tbody tr th:only-of-type {\n",
       "        vertical-align: middle;\n",
       "    }\n",
       "\n",
       "    .dataframe tbody tr th {\n",
       "        vertical-align: top;\n",
       "    }\n",
       "\n",
       "    .dataframe thead th {\n",
       "        text-align: right;\n",
       "    }\n",
       "</style>\n",
       "<table border=\"1\" class=\"dataframe\">\n",
       "  <thead>\n",
       "    <tr style=\"text-align: right;\">\n",
       "      <th></th>\n",
       "      <th>2016</th>\n",
       "      <th>Country Name</th>\n",
       "    </tr>\n",
       "  </thead>\n",
       "  <tbody>\n",
       "    <tr>\n",
       "      <th>1</th>\n",
       "      <td>2152.719971</td>\n",
       "      <td>Austria</td>\n",
       "    </tr>\n",
       "    <tr>\n",
       "      <th>196</th>\n",
       "      <td>1921.000000</td>\n",
       "      <td>Spain</td>\n",
       "    </tr>\n",
       "    <tr>\n",
       "      <th>106</th>\n",
       "      <td>1873.810059</td>\n",
       "      <td>Morocco</td>\n",
       "    </tr>\n",
       "    <tr>\n",
       "      <th>61</th>\n",
       "      <td>1769.880005</td>\n",
       "      <td>Greece</td>\n",
       "    </tr>\n",
       "    <tr>\n",
       "      <th>211</th>\n",
       "      <td>1767.810059</td>\n",
       "      <td>Turkey</td>\n",
       "    </tr>\n",
       "    <tr>\n",
       "      <th>76</th>\n",
       "      <td>1515.270020</td>\n",
       "      <td>Hungary</td>\n",
       "    </tr>\n",
       "    <tr>\n",
       "      <th>31</th>\n",
       "      <td>1302.079956</td>\n",
       "      <td>France</td>\n",
       "    </tr>\n",
       "    <tr>\n",
       "      <th>91</th>\n",
       "      <td>1085.510010</td>\n",
       "      <td>Italy</td>\n",
       "    </tr>\n",
       "    <tr>\n",
       "      <th>46</th>\n",
       "      <td>1057.619995</td>\n",
       "      <td>Germany</td>\n",
       "    </tr>\n",
       "    <tr>\n",
       "      <th>121</th>\n",
       "      <td>761.036011</td>\n",
       "      <td>Netherlands</td>\n",
       "    </tr>\n",
       "    <tr>\n",
       "      <th>16</th>\n",
       "      <td>599.791016</td>\n",
       "      <td>Belgium</td>\n",
       "    </tr>\n",
       "    <tr>\n",
       "      <th>136</th>\n",
       "      <td>417.325012</td>\n",
       "      <td>Poland</td>\n",
       "    </tr>\n",
       "    <tr>\n",
       "      <th>151</th>\n",
       "      <td>0.000000</td>\n",
       "      <td>Portugal</td>\n",
       "    </tr>\n",
       "    <tr>\n",
       "      <th>166</th>\n",
       "      <td>0.000000</td>\n",
       "      <td>Romania</td>\n",
       "    </tr>\n",
       "    <tr>\n",
       "      <th>181</th>\n",
       "      <td>0.000000</td>\n",
       "      <td>Serbia</td>\n",
       "    </tr>\n",
       "  </tbody>\n",
       "</table>\n",
       "</div>"
      ],
      "text/plain": [
       "            2016 Country Name\n",
       "1    2152.719971      Austria\n",
       "196  1921.000000        Spain\n",
       "106  1873.810059      Morocco\n",
       "61   1769.880005       Greece\n",
       "211  1767.810059       Turkey\n",
       "76   1515.270020      Hungary\n",
       "31   1302.079956       France\n",
       "91   1085.510010        Italy\n",
       "46   1057.619995      Germany\n",
       "121   761.036011  Netherlands\n",
       "16    599.791016      Belgium\n",
       "136   417.325012       Poland\n",
       "151     0.000000     Portugal\n",
       "166     0.000000      Romania\n",
       "181     0.000000       Serbia"
      ]
     },
     "execution_count": 29,
     "metadata": {},
     "output_type": "execute_result"
    }
   ],
   "source": [
    "mask_peachesandnectarines = db.loc[:,'Item Name'] == top_item.index[1]\n",
    "db.loc[mask_peachesandnectarines,['2016','Country Name']].sort_values('2016',ascending = False)"
   ]
  },
  {
   "cell_type": "code",
   "execution_count": 30,
   "id": "64ffb69e",
   "metadata": {},
   "outputs": [
    {
     "data": {
      "text/plain": [
       "'Peaches and nectarines'"
      ]
     },
     "execution_count": 30,
     "metadata": {},
     "output_type": "execute_result"
    }
   ],
   "source": [
    "top_item = db.groupby('Item Name')['2016'].mean().sort_values(ascending=False)\n",
    "top_item.index[5]"
   ]
  },
  {
   "cell_type": "code",
   "execution_count": 31,
   "id": "121b063f",
   "metadata": {},
   "outputs": [],
   "source": []
  },
  {
   "cell_type": "code",
   "execution_count": 32,
   "id": "946b4113",
   "metadata": {},
   "outputs": [
    {
     "data": {
      "text/plain": [
       "'Cherries'"
      ]
     },
     "execution_count": 32,
     "metadata": {},
     "output_type": "execute_result"
    }
   ],
   "source": []
  },
  {
   "cell_type": "code",
   "execution_count": null,
   "id": "279e51f8",
   "metadata": {},
   "outputs": [],
   "source": []
  }
 ],
 "metadata": {
  "kernelspec": {
   "display_name": "Python 3",
   "language": "python",
   "name": "python3"
  },
  "language_info": {
   "codemirror_mode": {
    "name": "ipython",
    "version": 3
   },
   "file_extension": ".py",
   "mimetype": "text/x-python",
   "name": "python",
   "nbconvert_exporter": "python",
   "pygments_lexer": "ipython3",
   "version": "3.8.8"
  }
 },
 "nbformat": 4,
 "nbformat_minor": 5
}
